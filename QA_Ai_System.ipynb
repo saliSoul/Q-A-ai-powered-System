{
  "nbformat": 4,
  "nbformat_minor": 0,
  "metadata": {
    "colab": {
      "provenance": [],
      "include_colab_link": true
    },
    "kernelspec": {
      "name": "python3",
      "display_name": "Python 3"
    },
    "language_info": {
      "name": "python"
    }
  },
  "cells": [
    {
      "cell_type": "markdown",
      "metadata": {
        "id": "view-in-github",
        "colab_type": "text"
      },
      "source": [
        "<a href=\"https://colab.research.google.com/github/saliSoul/Q-A-ai-powered-System/blob/main/QA_Ai_System.ipynb\" target=\"_parent\"><img src=\"https://colab.research.google.com/assets/colab-badge.svg\" alt=\"Open In Colab\"/></a>"
      ]
    },
    {
      "cell_type": "code",
      "source": [
        "# Install necessary dependencies\n",
        "!pip install langchain chromadb sentence-transformers transformers rank_bm25 pypdf langchain-community huggingface_hub\n"
      ],
      "metadata": {
        "id": "twutgVFczFLE"
      },
      "execution_count": null,
      "outputs": []
    },
    {
      "cell_type": "code",
      "source": [
        "import os\n",
        "import shutil\n",
        "import google.colab\n",
        "from langchain.document_loaders import PyPDFLoader, TextLoader\n",
        "from langchain.text_splitter import RecursiveCharacterTextSplitter\n",
        "from langchain.embeddings import HuggingFaceEmbeddings\n",
        "from langchain.vectorstores import Chroma\n",
        "from langchain.prompts import PromptTemplate\n",
        "from langchain.llms import HuggingFacePipeline\n",
        "from transformers import pipeline\n",
        "from rank_bm25 import BM25Okapi\n",
        "\n",
        "# Path for ChromaDB storage\n",
        "CHROMA_DB_DIR = \"chroma_db\"\n",
        "\n"
      ],
      "metadata": {
        "id": "yuhECwaYFu0f"
      },
      "execution_count": 1,
      "outputs": []
    },
    {
      "cell_type": "code",
      "source": [
        "#Upload Files ()\n",
        "def upload_files():\n",
        "    \"\"\"Upload PDF or TXT files to Colab.\"\"\"\n",
        "    print(\"📂 Upload your PDF or TXT files...\")\n",
        "    uploaded = google.colab.files.upload()\n",
        "    data_dir = \"/content/data\"\n",
        "    os.makedirs(data_dir, exist_ok=True)\n",
        "\n",
        "    for filename in uploaded.keys():\n",
        "        file_path = os.path.join(data_dir, filename)\n",
        "        with open(file_path, \"wb\") as f:\n",
        "            f.write(uploaded[filename])\n",
        "\n",
        "    print(f\"✅ Uploaded {len(uploaded)} files.\")\n",
        "    return data_dir\n"
      ],
      "metadata": {
        "id": "MMa0hlD6Fwoa"
      },
      "execution_count": 2,
      "outputs": []
    },
    {
      "cell_type": "code",
      "source": [
        "# Load Documents\n",
        "def load_documents(directory):\n",
        "    \"\"\"Load text and PDF files from a directory efficiently.\"\"\"\n",
        "    docs = []\n",
        "    for file in os.listdir(directory):\n",
        "        file_path = os.path.join(directory, file)\n",
        "        if file.endswith(\".pdf\"):\n",
        "            loader = PyPDFLoader(file_path)\n",
        "        elif file.endswith(\".txt\"):\n",
        "            loader = TextLoader(file_path)\n",
        "        else:\n",
        "            continue\n",
        "        docs.extend(loader.load())\n",
        "    return docs\n"
      ],
      "metadata": {
        "id": "4Bl7wN8IF2OO"
      },
      "execution_count": 3,
      "outputs": []
    },
    {
      "cell_type": "code",
      "source": [
        "#To Upload and process new documents\n",
        "data_directory = upload_files()\n",
        "documents = load_documents(data_directory)\n",
        "\n",
        "if not documents:\n",
        "    raise ValueError(\"No valid documents found! Please upload PDF or TXT files.\")"
      ],
      "metadata": {
        "colab": {
          "base_uri": "https://localhost:8080/",
          "height": 113
        },
        "id": "Xvm4o7C4F6xb",
        "outputId": "2591bc90-4635-45ea-f7ba-271afe20eb99"
      },
      "execution_count": 12,
      "outputs": [
        {
          "output_type": "stream",
          "name": "stdout",
          "text": [
            "📂 Upload your PDF or TXT files...\n"
          ]
        },
        {
          "output_type": "display_data",
          "data": {
            "text/plain": [
              "<IPython.core.display.HTML object>"
            ],
            "text/html": [
              "\n",
              "     <input type=\"file\" id=\"files-15c145d1-db67-42ee-a6b9-c57d1d9916a9\" name=\"files[]\" multiple disabled\n",
              "        style=\"border:none\" />\n",
              "     <output id=\"result-15c145d1-db67-42ee-a6b9-c57d1d9916a9\">\n",
              "      Upload widget is only available when the cell has been executed in the\n",
              "      current browser session. Please rerun this cell to enable.\n",
              "      </output>\n",
              "      <script>// Copyright 2017 Google LLC\n",
              "//\n",
              "// Licensed under the Apache License, Version 2.0 (the \"License\");\n",
              "// you may not use this file except in compliance with the License.\n",
              "// You may obtain a copy of the License at\n",
              "//\n",
              "//      http://www.apache.org/licenses/LICENSE-2.0\n",
              "//\n",
              "// Unless required by applicable law or agreed to in writing, software\n",
              "// distributed under the License is distributed on an \"AS IS\" BASIS,\n",
              "// WITHOUT WARRANTIES OR CONDITIONS OF ANY KIND, either express or implied.\n",
              "// See the License for the specific language governing permissions and\n",
              "// limitations under the License.\n",
              "\n",
              "/**\n",
              " * @fileoverview Helpers for google.colab Python module.\n",
              " */\n",
              "(function(scope) {\n",
              "function span(text, styleAttributes = {}) {\n",
              "  const element = document.createElement('span');\n",
              "  element.textContent = text;\n",
              "  for (const key of Object.keys(styleAttributes)) {\n",
              "    element.style[key] = styleAttributes[key];\n",
              "  }\n",
              "  return element;\n",
              "}\n",
              "\n",
              "// Max number of bytes which will be uploaded at a time.\n",
              "const MAX_PAYLOAD_SIZE = 100 * 1024;\n",
              "\n",
              "function _uploadFiles(inputId, outputId) {\n",
              "  const steps = uploadFilesStep(inputId, outputId);\n",
              "  const outputElement = document.getElementById(outputId);\n",
              "  // Cache steps on the outputElement to make it available for the next call\n",
              "  // to uploadFilesContinue from Python.\n",
              "  outputElement.steps = steps;\n",
              "\n",
              "  return _uploadFilesContinue(outputId);\n",
              "}\n",
              "\n",
              "// This is roughly an async generator (not supported in the browser yet),\n",
              "// where there are multiple asynchronous steps and the Python side is going\n",
              "// to poll for completion of each step.\n",
              "// This uses a Promise to block the python side on completion of each step,\n",
              "// then passes the result of the previous step as the input to the next step.\n",
              "function _uploadFilesContinue(outputId) {\n",
              "  const outputElement = document.getElementById(outputId);\n",
              "  const steps = outputElement.steps;\n",
              "\n",
              "  const next = steps.next(outputElement.lastPromiseValue);\n",
              "  return Promise.resolve(next.value.promise).then((value) => {\n",
              "    // Cache the last promise value to make it available to the next\n",
              "    // step of the generator.\n",
              "    outputElement.lastPromiseValue = value;\n",
              "    return next.value.response;\n",
              "  });\n",
              "}\n",
              "\n",
              "/**\n",
              " * Generator function which is called between each async step of the upload\n",
              " * process.\n",
              " * @param {string} inputId Element ID of the input file picker element.\n",
              " * @param {string} outputId Element ID of the output display.\n",
              " * @return {!Iterable<!Object>} Iterable of next steps.\n",
              " */\n",
              "function* uploadFilesStep(inputId, outputId) {\n",
              "  const inputElement = document.getElementById(inputId);\n",
              "  inputElement.disabled = false;\n",
              "\n",
              "  const outputElement = document.getElementById(outputId);\n",
              "  outputElement.innerHTML = '';\n",
              "\n",
              "  const pickedPromise = new Promise((resolve) => {\n",
              "    inputElement.addEventListener('change', (e) => {\n",
              "      resolve(e.target.files);\n",
              "    });\n",
              "  });\n",
              "\n",
              "  const cancel = document.createElement('button');\n",
              "  inputElement.parentElement.appendChild(cancel);\n",
              "  cancel.textContent = 'Cancel upload';\n",
              "  const cancelPromise = new Promise((resolve) => {\n",
              "    cancel.onclick = () => {\n",
              "      resolve(null);\n",
              "    };\n",
              "  });\n",
              "\n",
              "  // Wait for the user to pick the files.\n",
              "  const files = yield {\n",
              "    promise: Promise.race([pickedPromise, cancelPromise]),\n",
              "    response: {\n",
              "      action: 'starting',\n",
              "    }\n",
              "  };\n",
              "\n",
              "  cancel.remove();\n",
              "\n",
              "  // Disable the input element since further picks are not allowed.\n",
              "  inputElement.disabled = true;\n",
              "\n",
              "  if (!files) {\n",
              "    return {\n",
              "      response: {\n",
              "        action: 'complete',\n",
              "      }\n",
              "    };\n",
              "  }\n",
              "\n",
              "  for (const file of files) {\n",
              "    const li = document.createElement('li');\n",
              "    li.append(span(file.name, {fontWeight: 'bold'}));\n",
              "    li.append(span(\n",
              "        `(${file.type || 'n/a'}) - ${file.size} bytes, ` +\n",
              "        `last modified: ${\n",
              "            file.lastModifiedDate ? file.lastModifiedDate.toLocaleDateString() :\n",
              "                                    'n/a'} - `));\n",
              "    const percent = span('0% done');\n",
              "    li.appendChild(percent);\n",
              "\n",
              "    outputElement.appendChild(li);\n",
              "\n",
              "    const fileDataPromise = new Promise((resolve) => {\n",
              "      const reader = new FileReader();\n",
              "      reader.onload = (e) => {\n",
              "        resolve(e.target.result);\n",
              "      };\n",
              "      reader.readAsArrayBuffer(file);\n",
              "    });\n",
              "    // Wait for the data to be ready.\n",
              "    let fileData = yield {\n",
              "      promise: fileDataPromise,\n",
              "      response: {\n",
              "        action: 'continue',\n",
              "      }\n",
              "    };\n",
              "\n",
              "    // Use a chunked sending to avoid message size limits. See b/62115660.\n",
              "    let position = 0;\n",
              "    do {\n",
              "      const length = Math.min(fileData.byteLength - position, MAX_PAYLOAD_SIZE);\n",
              "      const chunk = new Uint8Array(fileData, position, length);\n",
              "      position += length;\n",
              "\n",
              "      const base64 = btoa(String.fromCharCode.apply(null, chunk));\n",
              "      yield {\n",
              "        response: {\n",
              "          action: 'append',\n",
              "          file: file.name,\n",
              "          data: base64,\n",
              "        },\n",
              "      };\n",
              "\n",
              "      let percentDone = fileData.byteLength === 0 ?\n",
              "          100 :\n",
              "          Math.round((position / fileData.byteLength) * 100);\n",
              "      percent.textContent = `${percentDone}% done`;\n",
              "\n",
              "    } while (position < fileData.byteLength);\n",
              "  }\n",
              "\n",
              "  // All done.\n",
              "  yield {\n",
              "    response: {\n",
              "      action: 'complete',\n",
              "    }\n",
              "  };\n",
              "}\n",
              "\n",
              "scope.google = scope.google || {};\n",
              "scope.google.colab = scope.google.colab || {};\n",
              "scope.google.colab._files = {\n",
              "  _uploadFiles,\n",
              "  _uploadFilesContinue,\n",
              "};\n",
              "})(self);\n",
              "</script> "
            ]
          },
          "metadata": {}
        },
        {
          "output_type": "stream",
          "name": "stdout",
          "text": [
            "Saving NEOV.txt to NEOV (1).txt\n",
            "✅ Uploaded 1 files.\n"
          ]
        }
      ]
    },
    {
      "cell_type": "code",
      "source": [
        "#Dynamic Chunking (Adjusts based on document size)\n",
        "def adaptive_chunking(docs):\n",
        "    \"\"\"Dynamically chunk documents based on size.\"\"\"\n",
        "    avg_length = sum(len(doc.page_content) for doc in docs) / len(docs)\n",
        "    chunk_size = min(512, int(avg_length / 2))\n",
        "    text_splitter = RecursiveCharacterTextSplitter(\n",
        "        chunk_size=chunk_size, chunk_overlap=int(chunk_size * 0.2)\n",
        "    )\n",
        "    return text_splitter.split_documents(docs)\n",
        "\n",
        "splits = adaptive_chunking(documents)\n"
      ],
      "metadata": {
        "id": "DRWzI77hGDyO"
      },
      "execution_count": 5,
      "outputs": []
    },
    {
      "cell_type": "code",
      "source": [
        "#Embedding using 'bge-base-en'\n",
        "embeddings = HuggingFaceEmbeddings(model_name=\"BAAI/bge-base-en\")\n",
        "\n",
        "#ChromaDB for Vector Storage\n",
        "vector_store = Chroma.from_documents(splits, embeddings, persist_directory=CHROMA_DB_DIR)\n",
        "\n",
        "#Reload ChromaDB\n",
        "vector_store = Chroma(persist_directory=CHROMA_DB_DIR, embedding_function=embeddings)\n",
        "\n",
        "#Using BM25 for Sparse Retrieval (Lexical Matching)\n",
        "bm25 = BM25Okapi([doc.page_content.split() for doc in splits])\n",
        "\n"
      ],
      "metadata": {
        "id": "jLIaevykh33v"
      },
      "execution_count": 13,
      "outputs": []
    },
    {
      "cell_type": "code",
      "source": [
        "\n",
        "#Loads the FLAN-T5 model for generating responses\n",
        "qa_pipeline = pipeline(\n",
        "    \"text2text-generation\",\n",
        "    model=\"google/flan-t5-large\",\n",
        "    max_new_tokens=200,\n",
        "    temperature=0.5,\n",
        "    top_p=0.85,\n",
        ")\n",
        "\n",
        "# Load the \"FLAN-T5\" LLM\n",
        "llm = HuggingFacePipeline(pipeline=qa_pipeline)\n",
        "print(\"LLM (FLAN-T5) initialized.\")\n"
      ],
      "metadata": {
        "colab": {
          "base_uri": "https://localhost:8080/"
        },
        "id": "sxUQ_RU7h71d",
        "outputId": "6e99b8b9-d549-4426-dc5f-3e4bbe6d0ff8"
      },
      "execution_count": 14,
      "outputs": [
        {
          "output_type": "stream",
          "name": "stderr",
          "text": [
            "Device set to use cpu\n"
          ]
        },
        {
          "output_type": "stream",
          "name": "stdout",
          "text": [
            "LLM (FLAN-T5) initialized.\n"
          ]
        }
      ]
    },
    {
      "cell_type": "code",
      "source": [
        "#Prompt template\n",
        "PROMPT_TEMPLATE = \"\"\"\n",
        "You are an AI assistant. Use ONLY the provided context to answer.\n",
        "\n",
        "Context:\n",
        "{context}\n",
        "\n",
        "Question: {question}\n",
        "\n",
        "Give a well-structured, accurate response.\n",
        "\"\"\"\n",
        "\n",
        "prompt = PromptTemplate(template=PROMPT_TEMPLATE, input_variables=[\"context\", \"question\"])\n",
        "\n",
        "#Hybrid Retrieval: Combines BM25 + ChromaDB for better search\n",
        "def retrieve_documents(query, top_k=5):\n",
        "    dense_results = vector_store.similarity_search(query, k=top_k)\n",
        "    sparse_results = bm25.get_top_n(query.split(), splits, n=top_k)\n",
        "\n",
        "    # Merge results ( to avoid duplicates)\n",
        "    combined_results = {doc.page_content: doc for doc in (dense_results + sparse_results)}\n",
        "    return list(combined_results.values())"
      ],
      "metadata": {
        "id": "h1LuWRacGvZy"
      },
      "execution_count": 15,
      "outputs": []
    },
    {
      "cell_type": "code",
      "source": [
        "t does neov do"
      ],
      "metadata": {
        "id": "wOmqdzm3mtK0"
      },
      "execution_count": null,
      "outputs": []
    },
    {
      "cell_type": "code",
      "source": [
        "def answer_question(question):\n",
        "    \"\"\"Retrieve relevant documents and generate an answer.\"\"\"\n",
        "    results = retrieve_documents(question)\n",
        "\n",
        "    if not results:\n",
        "        return \"No relevant information found.\"\n",
        "\n",
        "    context_text = \"\\n\\n---\\n\\n\".join([doc.page_content for doc in results])\n",
        "\n",
        "    #Formating prompt\n",
        "    formatted_prompt = prompt.format(context=context_text, question=question)\n",
        "\n",
        "    #Get the response from LLM\n",
        "    response_text = qa_pipeline(formatted_prompt)[0][\"generated_text\"]\n",
        "\n",
        "    # to Extract sources\n",
        "    # sources = [doc.metadata.get(\"source\", \"Unknown\") for doc in results]\n",
        "\n",
        "    return f\"\\n💡 Response: {response_text}\"?\n",
        "\n",
        "# 💬 **Interactive Chat**\n",
        "while True:\n",
        "    query = input(\"\\n💬 Ask a question (or type 'exit' to quit): \")\n",
        "    if query.lower() == \"exit\":\n",
        "        print(\"Alright. Have a great day! :)\")\n",
        "        break\n",
        "\n",
        "    response = answer_question(query)\n",
        "    print(response)\n",
        "\n"
      ],
      "metadata": {
        "id": "VSzVacysEGBj",
        "colab": {
          "base_uri": "https://localhost:8080/"
        },
        "outputId": "f415f2b1-de09-4fb5-cb9c-276f9aa45cde"
      },
      "execution_count": 16,
      "outputs": [
        {
          "name": "stdout",
          "output_type": "stream",
          "text": [
            "\n",
            "💬 Ask a question (or type 'exit' to quit): what does neov do?\n"
          ]
        },
        {
          "output_type": "stream",
          "name": "stderr",
          "text": [
            "/usr/local/lib/python3.11/dist-packages/transformers/generation/configuration_utils.py:628: UserWarning: `do_sample` is set to `False`. However, `temperature` is set to `0.5` -- this flag is only used in sample-based generation modes. You should set `do_sample=True` or unset `temperature`.\n",
            "  warnings.warn(\n",
            "/usr/local/lib/python3.11/dist-packages/transformers/generation/configuration_utils.py:633: UserWarning: `do_sample` is set to `False`. However, `top_p` is set to `0.85` -- this flag is only used in sample-based generation modes. You should set `do_sample=True` or unset `top_p`.\n",
            "  warnings.warn(\n"
          ]
        },
        {
          "name": "stdout",
          "output_type": "stream",
          "text": [
            "\n",
            "💡 Response: NEOV develops intelligent virtual agents capable of:  Automating customer support and document processing  Enhancing business decision-making through advanced natural language processing (NLP)  Providing accurate and efficient responses using machine learning algorithms 2. Workflow Automation\n",
            "\n",
            "💬 Ask a question (or type 'exit' to quit): who is neov?\n",
            "\n",
            "💡 Response: a rapidly growing consulting firm operating across the African continent, specializing in the insurance and fintech sectors\n",
            "\n",
            "💬 Ask a question (or type 'exit' to quit): how many people work in neov?\n",
            "\n",
            "💡 Response: 2-10 employees\n",
            "\n",
            "💬 Ask a question (or type 'exit' to quit): what's neov's mission?\n"
          ]
        },
        {
          "output_type": "stream",
          "name": "stderr",
          "text": [
            "Token indices sequence length is longer than the specified maximum sequence length for this model (595 > 512). Running this sequence through the model will result in indexing errors\n"
          ]
        },
        {
          "output_type": "stream",
          "name": "stdout",
          "text": [
            "\n",
            "💡 Response: Empower businesses with intelligent, scalable, and accessible automation tools\n",
            "\n",
            "💬 Ask a question (or type 'exit' to quit): is neov a person?\n",
            "\n",
            "💡 Response: no\n",
            "\n",
            "💬 Ask a question (or type 'exit' to quit): is neov a company/\n",
            "\n",
            "💡 Response: yes\n",
            "\n",
            "💬 Ask a question (or type 'exit' to quit): exit\n",
            "Alright. Have a great day! :)\n"
          ]
        }
      ]
    },
    {
      "cell_type": "code",
      "source": [],
      "metadata": {
        "id": "jsKfQY7dUjbJ"
      },
      "execution_count": null,
      "outputs": []
    }
  ]
}